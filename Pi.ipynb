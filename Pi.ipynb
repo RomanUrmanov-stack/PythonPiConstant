{
 "cells": [
  {
   "cell_type": "code",
   "execution_count": 4,
   "metadata": {
    "collapsed": false
   },
   "outputs": [],
   "source": [
    "import numpy as np\n",
    "import random\n",
    "from math import sqrt"
   ]
  },
  {
   "cell_type": "code",
   "execution_count": 5,
   "metadata": {
    "collapsed": true
   },
   "outputs": [],
   "source": [
    "def pi_error(x):\n",
    "    return sqrt(np.pi*(1-np.pi/x)/(4*x))"
   ]
  },
  {
   "cell_type": "code",
   "execution_count": 7,
   "metadata": {
    "collapsed": false
   },
   "outputs": [],
   "source": [
    "N=1000000\n",
    "field = np.array([(random.random(), random.random())for i in range(1, N+1)])"
   ]
  },
  {
   "cell_type": "code",
   "execution_count": 8,
   "metadata": {
    "collapsed": false
   },
   "outputs": [
    {
     "name": "stdout",
     "output_type": "stream",
     "text": [
      "3.140956\n",
      "0.0008862255333696655\n"
     ]
    }
   ],
   "source": [
    "in_circle=0\n",
    "for i in range (0, N):\n",
    "    if ((field[i,0]-0.5)**2+(field[i,1]-0.5)**2)**0.5<=0.5:\n",
    "        in_circle+=1\n",
    "our_pi=in_circle/N*4\n",
    "print (our_pi)\n",
    "print (pi_error(N))"
   ]
  },
  {
   "cell_type": "code",
   "execution_count": null,
   "metadata": {
    "collapsed": true
   },
   "outputs": [],
   "source": [
    "import numpy as np\n",
    "nums = np.random.rand((100, 2)) - 0.5\n",
    "mask = (nums[:,0]**2 + nums[:,1]**2) < 0.25\n",
    "np.count_nonzero(mask)"
   ]
  },
  {
   "cell_type": "code",
   "execution_count": 9,
   "metadata": {
    "collapsed": false
   },
   "outputs": [
    {
     "data": {
      "image/png": "[encoded data removed]",
      "text/plain": [
       "<matplotlib.figure.Figure at 0x1f8b32c6518>"
      ]
     },
     "metadata": {},
     "output_type": "display_data"
    }
   ],
   "source": [
    "import matplotlib.pyplot as plt\n",
    "xs = [2 ** k for k in range (10,25)]\n",
    "ys = [pi_error (x) for x in xs]\n",
    "plt.plot(xs,ys)\n",
    "plt.xscale ('log')\n",
    "plt.show()"
   ]
  }
 ],
 "metadata": {
  "kernelspec": {
   "display_name": "Python 3",
   "language": "python",
   "name": "python3"
  },
  "language_info": {
   "codemirror_mode": {
    "name": "ipython",
    "version": 3
   },
   "file_extension": ".py",
   "mimetype": "text/x-python",
   "name": "python",
   "nbconvert_exporter": "python",
   "pygments_lexer": "ipython3",
   "version": "3.6.0"
  }
 },
 "nbformat": 4,
 "nbformat_minor": 2
}
